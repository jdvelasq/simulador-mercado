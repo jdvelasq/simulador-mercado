{
 "cells": [
  {
   "cell_type": "code",
   "execution_count": 1,
   "metadata": {},
   "outputs": [
    {
     "data": {
      "text/plain": [
       "Index(['Ano', 'Mes', 'Fecha', 'Precio_Bolsa', 'Aportes_GWh',\n",
       "       'Volumen_Util_GWh', 'Demanda_GWh', 'ONI', 'CEN_Total', 'CEN_Hidro',\n",
       "       'CEN_Termica', 'Generacion_Hidro_GWh', 'Generacion_Otros_GWh', 'IPC',\n",
       "       'PRJ_0', 'PRJ_1', 'PRJ_2', 'PRJ_3', 'PRJ_4', 'PRJ_5', 'PRJ_6'],\n",
       "      dtype='object')"
      ]
     },
     "execution_count": 1,
     "metadata": {},
     "output_type": "execute_result"
    }
   ],
   "source": [
    "import pandas as pd"
   ]
  },
  {
   "cell_type": "code",
   "execution_count": null,
   "metadata": {},
   "outputs": [],
   "source": [
    "data = pd.read_csv('data/data.csv')"
   ]
  },
  {
   "cell_type": "code",
   "execution_count": null,
   "metadata": {},
   "outputs": [],
   "source": []
  }
 ],
 "metadata": {
  "kernelspec": {
   "display_name": "Python 3",
   "language": "python",
   "name": "python3"
  },
  "language_info": {
   "codemirror_mode": {
    "name": "ipython",
    "version": 3
   },
   "file_extension": ".py",
   "mimetype": "text/x-python",
   "name": "python",
   "nbconvert_exporter": "python",
   "pygments_lexer": "ipython3",
   "version": "3.6.9"
  }
 },
 "nbformat": 4,
 "nbformat_minor": 4
}
